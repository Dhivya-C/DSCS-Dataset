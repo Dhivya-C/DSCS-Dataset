{
  "nbformat": 4,
  "nbformat_minor": 0,
  "metadata": {
    "colab": {
      "name": "Dataset_Analysis.ipynb",
      "provenance": []
    },
    "kernelspec": {
      "name": "python3",
      "display_name": "Python 3"
    }
  },
  "cells": [
    {
      "cell_type": "code",
      "metadata": {
        "id": "oowjogv4gjm0",
        "colab": {
          "base_uri": "https://localhost:8080/",
          "height": 50
        },
        "outputId": "51ea0e78-99e9-41da-a96a-ef582b294af7"
      },
      "source": [
        "!pip install textstat"
      ],
      "execution_count": null,
      "outputs": [
        {
          "output_type": "stream",
          "text": [
            "Requirement already satisfied: textstat in /usr/local/lib/python3.6/dist-packages (0.6.2)\n",
            "Requirement already satisfied: pyphen in /usr/local/lib/python3.6/dist-packages (from textstat) (0.9.5)\n"
          ],
          "name": "stdout"
        }
      ]
    },
    {
      "cell_type": "code",
      "metadata": {
        "id": "WCY43G7Vjo6s",
        "colab": {
          "base_uri": "https://localhost:8080/",
          "height": 50
        },
        "outputId": "41a294de-67ab-4ec1-ed0f-a93c9faa8707"
      },
      "source": [
        "import nltk\n",
        "nltk.download('punkt')\n",
        "import re\n",
        "import textstat as ts\n",
        "from nltk.tokenize import sent_tokenize\n",
        "import pandas as pd\n",
        "import numpy as np"
      ],
      "execution_count": null,
      "outputs": [
        {
          "output_type": "stream",
          "text": [
            "[nltk_data] Downloading package punkt to /root/nltk_data...\n",
            "[nltk_data]   Package punkt is already up-to-date!\n"
          ],
          "name": "stdout"
        }
      ]
    },
    {
      "cell_type": "code",
      "metadata": {
        "id": "8PliLxR_jt1m"
      },
      "source": [
        "df = pd.read_csv('/content/drive/My Drive/dataset_dscs.csv')"
      ],
      "execution_count": null,
      "outputs": []
    },
    {
      "cell_type": "code",
      "metadata": {
        "id": "fTMJHASI8pkR",
        "colab": {
          "base_uri": "https://localhost:8080/",
          "height": 195
        },
        "outputId": "ef271829-efcf-49f7-c394-197b539c3dbb"
      },
      "source": [
        "df.head()"
      ],
      "execution_count": null,
      "outputs": [
        {
          "output_type": "execute_result",
          "data": {
            "text/html": [
              "<div>\n",
              "<style scoped>\n",
              "    .dataframe tbody tr th:only-of-type {\n",
              "        vertical-align: middle;\n",
              "    }\n",
              "\n",
              "    .dataframe tbody tr th {\n",
              "        vertical-align: top;\n",
              "    }\n",
              "\n",
              "    .dataframe thead th {\n",
              "        text-align: right;\n",
              "    }\n",
              "</style>\n",
              "<table border=\"1\" class=\"dataframe\">\n",
              "  <thead>\n",
              "    <tr style=\"text-align: right;\">\n",
              "      <th></th>\n",
              "      <th>sentence1</th>\n",
              "      <th>sentence2</th>\n",
              "    </tr>\n",
              "  </thead>\n",
              "  <tbody>\n",
              "    <tr>\n",
              "      <th>0</th>\n",
              "      <td>The study of computation and information.</td>\n",
              "      <td>The study of manipulating, managing, transform...</td>\n",
              "    </tr>\n",
              "    <tr>\n",
              "      <th>1</th>\n",
              "      <td>The study of computation and information.</td>\n",
              "      <td>A branch of science that deals with the theory...</td>\n",
              "    </tr>\n",
              "    <tr>\n",
              "      <th>2</th>\n",
              "      <td>A plan of how to do something</td>\n",
              "      <td>A branch of science that deals with the theory...</td>\n",
              "    </tr>\n",
              "    <tr>\n",
              "      <th>3</th>\n",
              "      <td>A finite sequence of well-defined, computer-im...</td>\n",
              "      <td>A specific set of instructions or steps on how...</td>\n",
              "    </tr>\n",
              "    <tr>\n",
              "      <th>4</th>\n",
              "      <td>A finite sequence of well-defined, computer-im...</td>\n",
              "      <td>A procedure for solving a mathematical problem...</td>\n",
              "    </tr>\n",
              "  </tbody>\n",
              "</table>\n",
              "</div>"
            ],
            "text/plain": [
              "                                           sentence1                                          sentence2\n",
              "0         The study of computation and information.   The study of manipulating, managing, transform...\n",
              "1         The study of computation and information.   A branch of science that deals with the theory...\n",
              "2                      A plan of how to do something  A branch of science that deals with the theory...\n",
              "3  A finite sequence of well-defined, computer-im...  A specific set of instructions or steps on how...\n",
              "4  A finite sequence of well-defined, computer-im...  A procedure for solving a mathematical problem..."
            ]
          },
          "metadata": {
            "tags": []
          },
          "execution_count": 50
        }
      ]
    },
    {
      "cell_type": "code",
      "metadata": {
        "id": "a2G3fzVVpvpG"
      },
      "source": [
        "column1_list = df['sentence1'].tolist()\n",
        "column2_list = df['sentence2'].tolist()\n",
        "dataset_list = column1_list + column2_list\n",
        "unique_sentences = list(set(dataset_list))"
      ],
      "execution_count": null,
      "outputs": []
    },
    {
      "cell_type": "code",
      "metadata": {
        "id": "1VOfY80rhAu3",
        "colab": {
          "base_uri": "https://localhost:8080/",
          "height": 35
        },
        "outputId": "523016c4-ceeb-424a-ff15-379c7ce05131"
      },
      "source": [
        "import re\n",
        "\n",
        "for i in range(len(unique_sentences)):\n",
        "  unique_sentences[i] = re.sub('[^a-zA-Z]', ' ', unique_sentences[i])\n",
        "unique_sentences[0]"
      ],
      "execution_count": null,
      "outputs": [
        {
          "output_type": "execute_result",
          "data": {
            "application/vnd.google.colaboratory.intrinsic+json": {
              "type": "string"
            },
            "text/plain": [
              "'The discovery  interpretation  and communication of meaningful patterns in data '"
            ]
          },
          "metadata": {
            "tags": []
          },
          "execution_count": 52
        }
      ]
    },
    {
      "cell_type": "code",
      "metadata": {
        "id": "BS9A2SlwxILz"
      },
      "source": [
        "value_list = []\n",
        "for s in unique_sentences:\n",
        "    tempList =[]\n",
        "    tempList.append(s)\n",
        "    tempList.append(ts.char_count(s))\n",
        "    tempList.append(ts.flesch_kincaid_grade(s))\n",
        "    tempList.append(ts.coleman_liau_index(s))\n",
        "    tempList.append(ts.automated_readability_index(s))\n",
        "    tempList.append(ts.linsear_write_formula(s))\n",
        "    tempList.append(ts.gunning_fog(s))\n",
        "    tempList.append(ts.text_standard(s,float_output=True))\n",
        "    value_list.append(tempList)"
      ],
      "execution_count": null,
      "outputs": []
    },
    {
      "cell_type": "code",
      "metadata": {
        "id": "wOE3mUIrsB0P"
      },
      "source": [
        "column_headers = ['Sentence','No of characters','Flesch_Kincaid_Grade','Coleman_Liau_Index','Automated_readability_index','Linsear_Write','Gunning_Fog','Aggr_score']"
      ],
      "execution_count": null,
      "outputs": []
    },
    {
      "cell_type": "code",
      "metadata": {
        "id": "5xhGQPzRrTPb",
        "colab": {
          "base_uri": "https://localhost:8080/",
          "height": 195
        },
        "outputId": "30e8e795-8933-4f5f-da1a-98892a02e2d4"
      },
      "source": [
        "metrics_df = pd.DataFrame(value_list,columns=column_headers)\n",
        "metrics_df.head()"
      ],
      "execution_count": null,
      "outputs": [
        {
          "output_type": "execute_result",
          "data": {
            "text/html": [
              "<div>\n",
              "<style scoped>\n",
              "    .dataframe tbody tr th:only-of-type {\n",
              "        vertical-align: middle;\n",
              "    }\n",
              "\n",
              "    .dataframe tbody tr th {\n",
              "        vertical-align: top;\n",
              "    }\n",
              "\n",
              "    .dataframe thead th {\n",
              "        text-align: right;\n",
              "    }\n",
              "</style>\n",
              "<table border=\"1\" class=\"dataframe\">\n",
              "  <thead>\n",
              "    <tr style=\"text-align: right;\">\n",
              "      <th></th>\n",
              "      <th>Sentence</th>\n",
              "      <th>No of characters</th>\n",
              "      <th>Flesch_Kincaid_Grade</th>\n",
              "      <th>Coleman_Liau_Index</th>\n",
              "      <th>Automated_readability_index</th>\n",
              "      <th>Linsear_Write</th>\n",
              "      <th>Gunning_Fog</th>\n",
              "      <th>Aggr_score</th>\n",
              "    </tr>\n",
              "  </thead>\n",
              "  <tbody>\n",
              "    <tr>\n",
              "      <th>0</th>\n",
              "      <td>The discovery  interpretation  and communicati...</td>\n",
              "      <td>68</td>\n",
              "      <td>20.2</td>\n",
              "      <td>20.68</td>\n",
              "      <td>15.6</td>\n",
              "      <td>8.0</td>\n",
              "      <td>20.00</td>\n",
              "      <td>20.0</td>\n",
              "    </tr>\n",
              "    <tr>\n",
              "      <th>1</th>\n",
              "      <td>A computer program that is usually disguised a...</td>\n",
              "      <td>152</td>\n",
              "      <td>17.0</td>\n",
              "      <td>13.70</td>\n",
              "      <td>17.8</td>\n",
              "      <td>19.5</td>\n",
              "      <td>18.50</td>\n",
              "      <td>17.0</td>\n",
              "    </tr>\n",
              "    <tr>\n",
              "      <th>2</th>\n",
              "      <td>A plan of how to do something</td>\n",
              "      <td>23</td>\n",
              "      <td>0.1</td>\n",
              "      <td>-0.87</td>\n",
              "      <td>-2.5</td>\n",
              "      <td>2.5</td>\n",
              "      <td>2.80</td>\n",
              "      <td>0.0</td>\n",
              "    </tr>\n",
              "    <tr>\n",
              "      <th>3</th>\n",
              "      <td>A set of instructions used to control the beha...</td>\n",
              "      <td>52</td>\n",
              "      <td>8.0</td>\n",
              "      <td>6.95</td>\n",
              "      <td>5.0</td>\n",
              "      <td>7.0</td>\n",
              "      <td>11.47</td>\n",
              "      <td>7.0</td>\n",
              "    </tr>\n",
              "    <tr>\n",
              "      <th>4</th>\n",
              "      <td>The protection of computer systems and network...</td>\n",
              "      <td>102</td>\n",
              "      <td>13.5</td>\n",
              "      <td>12.30</td>\n",
              "      <td>12.6</td>\n",
              "      <td>13.0</td>\n",
              "      <td>14.00</td>\n",
              "      <td>13.0</td>\n",
              "    </tr>\n",
              "  </tbody>\n",
              "</table>\n",
              "</div>"
            ],
            "text/plain": [
              "                                            Sentence  ...  Aggr_score\n",
              "0  The discovery  interpretation  and communicati...  ...        20.0\n",
              "1  A computer program that is usually disguised a...  ...        17.0\n",
              "2                      A plan of how to do something  ...         0.0\n",
              "3  A set of instructions used to control the beha...  ...         7.0\n",
              "4  The protection of computer systems and network...  ...        13.0\n",
              "\n",
              "[5 rows x 8 columns]"
            ]
          },
          "metadata": {
            "tags": []
          },
          "execution_count": 55
        }
      ]
    },
    {
      "cell_type": "code",
      "metadata": {
        "id": "AXLw40FGD7_8",
        "colab": {
          "base_uri": "https://localhost:8080/",
          "height": 202
        },
        "outputId": "aa2f098f-c9b7-4c6d-9e0f-216bfb461dac"
      },
      "source": [
        "!wget http://ixa2.si.ehu.es/stswiki/images/4/48/Stsbenchmark.tar.gz\n",
        "!tar -xzf Stsbenchmark.tar.gz"
      ],
      "execution_count": null,
      "outputs": [
        {
          "output_type": "stream",
          "text": [
            "--2020-10-20 18:48:33--  http://ixa2.si.ehu.es/stswiki/images/4/48/Stsbenchmark.tar.gz\n",
            "Resolving ixa2.si.ehu.es (ixa2.si.ehu.es)... 158.227.106.100\n",
            "Connecting to ixa2.si.ehu.es (ixa2.si.ehu.es)|158.227.106.100|:80... connected.\n",
            "HTTP request sent, awaiting response... 200 OK\n",
            "Length: 409630 (400K) [application/x-gzip]\n",
            "Saving to: ‘Stsbenchmark.tar.gz.1’\n",
            "\n",
            "Stsbenchmark.tar.gz 100%[===================>] 400.03K   280KB/s    in 1.4s    \n",
            "\n",
            "2020-10-20 18:48:35 (280 KB/s) - ‘Stsbenchmark.tar.gz.1’ saved [409630/409630]\n",
            "\n"
          ],
          "name": "stdout"
        }
      ]
    },
    {
      "cell_type": "code",
      "metadata": {
        "id": "DDWmtd3iD8YM"
      },
      "source": [
        "def read_sts_csv(path, columns=['source', 'type', 'year', 'id', 'score', 'sent_a', 'sent_b']):\n",
        "  rows = []\n",
        "  with open(path, mode='r', encoding='utf-8') as f:\n",
        "    lines = f.readlines()\n",
        "    print('Reading', len(lines), 'lines from', path)\n",
        "    for lnr, line in enumerate(lines):\n",
        "      cols = line.split('\\t')\n",
        "      assert len(cols) >= 7, 'line %s has %s columns instead of %s:\\n\\t%s' % (\n",
        "          lnr, len(cols), 7, \"\\n\\t\".join(cols)\n",
        "      ) \n",
        "      cols = cols[:7]\n",
        "      assert len(cols) == 7\n",
        "      rows.append(cols)\n",
        "  result = pd.DataFrame(rows, columns=columns)\n",
        "  # score is read as a string, so add a copy with correct type\n",
        "  result['score_f'] = result['score'].astype('float64')\n",
        "  return result"
      ],
      "execution_count": null,
      "outputs": []
    },
    {
      "cell_type": "code",
      "metadata": {
        "id": "wC6w6dh4EnDC",
        "colab": {
          "base_uri": "https://localhost:8080/",
          "height": 67
        },
        "outputId": "e2d731fe-7377-47dc-e087-e276438cea57"
      },
      "source": [
        "sts_dev_df = read_sts_csv('stsbenchmark/sts-dev.csv')\n",
        "sts_train_df = read_sts_csv('stsbenchmark/sts-train.csv')\n",
        "sts_test_df = read_sts_csv('stsbenchmark/sts-test.csv')"
      ],
      "execution_count": null,
      "outputs": [
        {
          "output_type": "stream",
          "text": [
            "Reading 1500 lines from stsbenchmark/sts-dev.csv\n",
            "Reading 5749 lines from stsbenchmark/sts-train.csv\n",
            "Reading 1379 lines from stsbenchmark/sts-test.csv\n"
          ],
          "name": "stdout"
        }
      ]
    },
    {
      "cell_type": "code",
      "metadata": {
        "id": "eZ2e4TPUEpXe",
        "colab": {
          "base_uri": "https://localhost:8080/",
          "height": 195
        },
        "outputId": "ef105ff0-a413-4272-ec4d-398c1b36ca0d"
      },
      "source": [
        "sts_test_data = sts_test_df[['sent_a','sent_b']]\n",
        "sts_test_data.head()"
      ],
      "execution_count": null,
      "outputs": [
        {
          "output_type": "execute_result",
          "data": {
            "text/html": [
              "<div>\n",
              "<style scoped>\n",
              "    .dataframe tbody tr th:only-of-type {\n",
              "        vertical-align: middle;\n",
              "    }\n",
              "\n",
              "    .dataframe tbody tr th {\n",
              "        vertical-align: top;\n",
              "    }\n",
              "\n",
              "    .dataframe thead th {\n",
              "        text-align: right;\n",
              "    }\n",
              "</style>\n",
              "<table border=\"1\" class=\"dataframe\">\n",
              "  <thead>\n",
              "    <tr style=\"text-align: right;\">\n",
              "      <th></th>\n",
              "      <th>sent_a</th>\n",
              "      <th>sent_b</th>\n",
              "    </tr>\n",
              "  </thead>\n",
              "  <tbody>\n",
              "    <tr>\n",
              "      <th>0</th>\n",
              "      <td>A girl is styling her hair.</td>\n",
              "      <td>A girl is brushing her hair.\\n</td>\n",
              "    </tr>\n",
              "    <tr>\n",
              "      <th>1</th>\n",
              "      <td>A group of men play soccer on the beach.</td>\n",
              "      <td>A group of boys are playing soccer on the beac...</td>\n",
              "    </tr>\n",
              "    <tr>\n",
              "      <th>2</th>\n",
              "      <td>One woman is measuring another woman's ankle.</td>\n",
              "      <td>A woman measures another woman's ankle.\\n</td>\n",
              "    </tr>\n",
              "    <tr>\n",
              "      <th>3</th>\n",
              "      <td>A man is cutting up a cucumber.</td>\n",
              "      <td>A man is slicing a cucumber.\\n</td>\n",
              "    </tr>\n",
              "    <tr>\n",
              "      <th>4</th>\n",
              "      <td>A man is playing a harp.</td>\n",
              "      <td>A man is playing a keyboard.\\n</td>\n",
              "    </tr>\n",
              "  </tbody>\n",
              "</table>\n",
              "</div>"
            ],
            "text/plain": [
              "                                          sent_a                                             sent_b\n",
              "0                    A girl is styling her hair.                     A girl is brushing her hair.\\n\n",
              "1       A group of men play soccer on the beach.  A group of boys are playing soccer on the beac...\n",
              "2  One woman is measuring another woman's ankle.          A woman measures another woman's ankle.\\n\n",
              "3                A man is cutting up a cucumber.                     A man is slicing a cucumber.\\n\n",
              "4                       A man is playing a harp.                     A man is playing a keyboard.\\n"
            ]
          },
          "metadata": {
            "tags": []
          },
          "execution_count": 59
        }
      ]
    },
    {
      "cell_type": "code",
      "metadata": {
        "id": "MTwGDF0zEuvt"
      },
      "source": [
        "sts_sentence_a = sts_test_data['sent_a'].tolist()\n",
        "sts_sentence_b = sts_test_data['sent_b'].tolist()\n",
        "sts_total_sentences = sts_sentence_a + sts_sentence_b"
      ],
      "execution_count": null,
      "outputs": []
    },
    {
      "cell_type": "code",
      "metadata": {
        "id": "aE0aIy3nEzSf",
        "colab": {
          "base_uri": "https://localhost:8080/",
          "height": 35
        },
        "outputId": "78bfd903-2b6e-4966-ae65-7f3e354d0b02"
      },
      "source": [
        "for i in range(len(sts_total_sentences)):\n",
        "  sts_total_sentences[i] = re.sub('[^a-zA-Z]', ' ', sts_total_sentences[i])\n",
        "sts_total_sentences[0]"
      ],
      "execution_count": null,
      "outputs": [
        {
          "output_type": "execute_result",
          "data": {
            "application/vnd.google.colaboratory.intrinsic+json": {
              "type": "string"
            },
            "text/plain": [
              "'A girl is styling her hair '"
            ]
          },
          "metadata": {
            "tags": []
          },
          "execution_count": 61
        }
      ]
    },
    {
      "cell_type": "code",
      "metadata": {
        "id": "wNEXYb4rE2BB"
      },
      "source": [
        "unique_sts_sentences = list(set(sts_total_sentences))"
      ],
      "execution_count": null,
      "outputs": []
    },
    {
      "cell_type": "code",
      "metadata": {
        "id": "Wsye9siIE5MD"
      },
      "source": [
        "value_list_sts = []\n",
        "for s in unique_sts_sentences:\n",
        "    tempList =[]\n",
        "    tempList.append(s)\n",
        "    tempList.append(ts.char_count(s))\n",
        "    tempList.append(ts.flesch_kincaid_grade(s))\n",
        "    tempList.append(ts.coleman_liau_index(s))\n",
        "    tempList.append(ts.automated_readability_index(s))\n",
        "    tempList.append(ts.linsear_write_formula(s))\n",
        "    tempList.append(ts.gunning_fog(s))\n",
        "    tempList.append(ts.text_standard(s,float_output=True))\n",
        "    value_list_sts.append(tempList)"
      ],
      "execution_count": null,
      "outputs": []
    },
    {
      "cell_type": "code",
      "metadata": {
        "id": "4ZO0st4GE8Rm",
        "colab": {
          "base_uri": "https://localhost:8080/",
          "height": 195
        },
        "outputId": "20f9d90e-a10c-4449-93be-cc5f0144741a"
      },
      "source": [
        "metrics_df_sts = pd.DataFrame(value_list_sts,columns=column_headers)\n",
        "metrics_df_sts.head()"
      ],
      "execution_count": null,
      "outputs": [
        {
          "output_type": "execute_result",
          "data": {
            "text/html": [
              "<div>\n",
              "<style scoped>\n",
              "    .dataframe tbody tr th:only-of-type {\n",
              "        vertical-align: middle;\n",
              "    }\n",
              "\n",
              "    .dataframe tbody tr th {\n",
              "        vertical-align: top;\n",
              "    }\n",
              "\n",
              "    .dataframe thead th {\n",
              "        text-align: right;\n",
              "    }\n",
              "</style>\n",
              "<table border=\"1\" class=\"dataframe\">\n",
              "  <thead>\n",
              "    <tr style=\"text-align: right;\">\n",
              "      <th></th>\n",
              "      <th>Sentence</th>\n",
              "      <th>No of characters</th>\n",
              "      <th>Flesch_Kincaid_Grade</th>\n",
              "      <th>Coleman_Liau_Index</th>\n",
              "      <th>Automated_readability_index</th>\n",
              "      <th>Linsear_Write</th>\n",
              "      <th>Gunning_Fog</th>\n",
              "      <th>Aggr_score</th>\n",
              "    </tr>\n",
              "  </thead>\n",
              "  <tbody>\n",
              "    <tr>\n",
              "      <th>0</th>\n",
              "      <td>Martin      will be freed today after serving ...</td>\n",
              "      <td>101</td>\n",
              "      <td>14.2</td>\n",
              "      <td>9.34</td>\n",
              "      <td>11.2</td>\n",
              "      <td>12.0</td>\n",
              "      <td>10.62</td>\n",
              "      <td>12.0</td>\n",
              "    </tr>\n",
              "    <tr>\n",
              "      <th>1</th>\n",
              "      <td>It depends on what they are evaluating  and how</td>\n",
              "      <td>38</td>\n",
              "      <td>8.0</td>\n",
              "      <td>5.42</td>\n",
              "      <td>2.9</td>\n",
              "      <td>4.5</td>\n",
              "      <td>8.04</td>\n",
              "      <td>8.0</td>\n",
              "    </tr>\n",
              "    <tr>\n",
              "      <th>2</th>\n",
              "      <td>Three young women standing in a room together</td>\n",
              "      <td>38</td>\n",
              "      <td>6.4</td>\n",
              "      <td>7.90</td>\n",
              "      <td>4.9</td>\n",
              "      <td>4.0</td>\n",
              "      <td>3.20</td>\n",
              "      <td>8.0</td>\n",
              "    </tr>\n",
              "    <tr>\n",
              "      <th>3</th>\n",
              "      <td>You should do what it says</td>\n",
              "      <td>21</td>\n",
              "      <td>0.9</td>\n",
              "      <td>-0.54</td>\n",
              "      <td>-2.0</td>\n",
              "      <td>2.0</td>\n",
              "      <td>2.40</td>\n",
              "      <td>0.0</td>\n",
              "    </tr>\n",
              "    <tr>\n",
              "      <th>4</th>\n",
              "      <td>Kernan  who was O Bannon s lieutenant governor...</td>\n",
              "      <td>105</td>\n",
              "      <td>14.2</td>\n",
              "      <td>10.39</td>\n",
              "      <td>12.0</td>\n",
              "      <td>14.0</td>\n",
              "      <td>12.44</td>\n",
              "      <td>12.0</td>\n",
              "    </tr>\n",
              "  </tbody>\n",
              "</table>\n",
              "</div>"
            ],
            "text/plain": [
              "                                            Sentence  ...  Aggr_score\n",
              "0  Martin      will be freed today after serving ...  ...        12.0\n",
              "1   It depends on what they are evaluating  and how   ...         8.0\n",
              "2     Three young women standing in a room together   ...         8.0\n",
              "3                        You should do what it says   ...         0.0\n",
              "4  Kernan  who was O Bannon s lieutenant governor...  ...        12.0\n",
              "\n",
              "[5 rows x 8 columns]"
            ]
          },
          "metadata": {
            "tags": []
          },
          "execution_count": 64
        }
      ]
    },
    {
      "cell_type": "code",
      "metadata": {
        "id": "s8M65cpCH4_1"
      },
      "source": [
        "metrics_sts_sample1 = metrics_df_sts.sample(n=52,random_state=5)"
      ],
      "execution_count": null,
      "outputs": []
    },
    {
      "cell_type": "code",
      "metadata": {
        "id": "27WbH-htFGaU",
        "colab": {
          "base_uri": "https://localhost:8080/",
          "height": 284
        },
        "outputId": "57960eb1-8f55-46d1-eea2-6dfc911daabb"
      },
      "source": [
        "metrics_df.describe()"
      ],
      "execution_count": null,
      "outputs": [
        {
          "output_type": "execute_result",
          "data": {
            "text/html": [
              "<div>\n",
              "<style scoped>\n",
              "    .dataframe tbody tr th:only-of-type {\n",
              "        vertical-align: middle;\n",
              "    }\n",
              "\n",
              "    .dataframe tbody tr th {\n",
              "        vertical-align: top;\n",
              "    }\n",
              "\n",
              "    .dataframe thead th {\n",
              "        text-align: right;\n",
              "    }\n",
              "</style>\n",
              "<table border=\"1\" class=\"dataframe\">\n",
              "  <thead>\n",
              "    <tr style=\"text-align: right;\">\n",
              "      <th></th>\n",
              "      <th>No of characters</th>\n",
              "      <th>Flesch_Kincaid_Grade</th>\n",
              "      <th>Coleman_Liau_Index</th>\n",
              "      <th>Automated_readability_index</th>\n",
              "      <th>Linsear_Write</th>\n",
              "      <th>Gunning_Fog</th>\n",
              "      <th>Aggr_score</th>\n",
              "    </tr>\n",
              "  </thead>\n",
              "  <tbody>\n",
              "    <tr>\n",
              "      <th>count</th>\n",
              "      <td>52.000000</td>\n",
              "      <td>52.000000</td>\n",
              "      <td>52.000000</td>\n",
              "      <td>52.000000</td>\n",
              "      <td>52.000000</td>\n",
              "      <td>52.000000</td>\n",
              "      <td>52.000000</td>\n",
              "    </tr>\n",
              "    <tr>\n",
              "      <th>mean</th>\n",
              "      <td>78.750000</td>\n",
              "      <td>12.765385</td>\n",
              "      <td>13.054615</td>\n",
              "      <td>11.200000</td>\n",
              "      <td>10.317308</td>\n",
              "      <td>14.834808</td>\n",
              "      <td>12.423077</td>\n",
              "    </tr>\n",
              "    <tr>\n",
              "      <th>std</th>\n",
              "      <td>25.406403</td>\n",
              "      <td>4.392591</td>\n",
              "      <td>4.906457</td>\n",
              "      <td>4.374615</td>\n",
              "      <td>3.791152</td>\n",
              "      <td>4.479180</td>\n",
              "      <td>4.281040</td>\n",
              "    </tr>\n",
              "    <tr>\n",
              "      <th>min</th>\n",
              "      <td>23.000000</td>\n",
              "      <td>0.100000</td>\n",
              "      <td>-0.870000</td>\n",
              "      <td>-2.500000</td>\n",
              "      <td>2.500000</td>\n",
              "      <td>2.800000</td>\n",
              "      <td>0.000000</td>\n",
              "    </tr>\n",
              "    <tr>\n",
              "      <th>25%</th>\n",
              "      <td>62.500000</td>\n",
              "      <td>9.800000</td>\n",
              "      <td>9.955000</td>\n",
              "      <td>8.100000</td>\n",
              "      <td>7.875000</td>\n",
              "      <td>11.452500</td>\n",
              "      <td>9.750000</td>\n",
              "    </tr>\n",
              "    <tr>\n",
              "      <th>50%</th>\n",
              "      <td>75.500000</td>\n",
              "      <td>12.900000</td>\n",
              "      <td>13.695000</td>\n",
              "      <td>11.450000</td>\n",
              "      <td>10.500000</td>\n",
              "      <td>14.800000</td>\n",
              "      <td>12.000000</td>\n",
              "    </tr>\n",
              "    <tr>\n",
              "      <th>75%</th>\n",
              "      <td>95.500000</td>\n",
              "      <td>15.800000</td>\n",
              "      <td>16.505000</td>\n",
              "      <td>14.425000</td>\n",
              "      <td>13.000000</td>\n",
              "      <td>18.050000</td>\n",
              "      <td>15.000000</td>\n",
              "    </tr>\n",
              "    <tr>\n",
              "      <th>max</th>\n",
              "      <td>152.000000</td>\n",
              "      <td>21.000000</td>\n",
              "      <td>22.180000</td>\n",
              "      <td>18.100000</td>\n",
              "      <td>19.500000</td>\n",
              "      <td>25.820000</td>\n",
              "      <td>22.000000</td>\n",
              "    </tr>\n",
              "  </tbody>\n",
              "</table>\n",
              "</div>"
            ],
            "text/plain": [
              "       No of characters  Flesch_Kincaid_Grade  ...  Gunning_Fog  Aggr_score\n",
              "count         52.000000             52.000000  ...    52.000000   52.000000\n",
              "mean          78.750000             12.765385  ...    14.834808   12.423077\n",
              "std           25.406403              4.392591  ...     4.479180    4.281040\n",
              "min           23.000000              0.100000  ...     2.800000    0.000000\n",
              "25%           62.500000              9.800000  ...    11.452500    9.750000\n",
              "50%           75.500000             12.900000  ...    14.800000   12.000000\n",
              "75%           95.500000             15.800000  ...    18.050000   15.000000\n",
              "max          152.000000             21.000000  ...    25.820000   22.000000\n",
              "\n",
              "[8 rows x 7 columns]"
            ]
          },
          "metadata": {
            "tags": []
          },
          "execution_count": 66
        }
      ]
    },
    {
      "cell_type": "code",
      "metadata": {
        "id": "t_Qo1p8IHuTe",
        "colab": {
          "base_uri": "https://localhost:8080/",
          "height": 284
        },
        "outputId": "68a949a1-907f-4b80-e23c-86e82e708a9c"
      },
      "source": [
        "metrics_df_sts.describe()"
      ],
      "execution_count": null,
      "outputs": [
        {
          "output_type": "execute_result",
          "data": {
            "text/html": [
              "<div>\n",
              "<style scoped>\n",
              "    .dataframe tbody tr th:only-of-type {\n",
              "        vertical-align: middle;\n",
              "    }\n",
              "\n",
              "    .dataframe tbody tr th {\n",
              "        vertical-align: top;\n",
              "    }\n",
              "\n",
              "    .dataframe thead th {\n",
              "        text-align: right;\n",
              "    }\n",
              "</style>\n",
              "<table border=\"1\" class=\"dataframe\">\n",
              "  <thead>\n",
              "    <tr style=\"text-align: right;\">\n",
              "      <th></th>\n",
              "      <th>No of characters</th>\n",
              "      <th>Flesch_Kincaid_Grade</th>\n",
              "      <th>Coleman_Liau_Index</th>\n",
              "      <th>Automated_readability_index</th>\n",
              "      <th>Linsear_Write</th>\n",
              "      <th>Gunning_Fog</th>\n",
              "      <th>Aggr_score</th>\n",
              "    </tr>\n",
              "  </thead>\n",
              "  <tbody>\n",
              "    <tr>\n",
              "      <th>count</th>\n",
              "      <td>2575.000000</td>\n",
              "      <td>2575.000000</td>\n",
              "      <td>2575.000000</td>\n",
              "      <td>2575.000000</td>\n",
              "      <td>2575.000000</td>\n",
              "      <td>2575.000000</td>\n",
              "      <td>2575.000000</td>\n",
              "    </tr>\n",
              "    <tr>\n",
              "      <th>mean</th>\n",
              "      <td>43.782913</td>\n",
              "      <td>7.608272</td>\n",
              "      <td>5.780796</td>\n",
              "      <td>4.037476</td>\n",
              "      <td>4.825825</td>\n",
              "      <td>6.268466</td>\n",
              "      <td>6.093592</td>\n",
              "    </tr>\n",
              "    <tr>\n",
              "      <th>std</th>\n",
              "      <td>26.592669</td>\n",
              "      <td>5.146197</td>\n",
              "      <td>5.645458</td>\n",
              "      <td>5.345164</td>\n",
              "      <td>3.697903</td>\n",
              "      <td>4.525878</td>\n",
              "      <td>4.434205</td>\n",
              "    </tr>\n",
              "    <tr>\n",
              "      <th>min</th>\n",
              "      <td>9.000000</td>\n",
              "      <td>-1.900000</td>\n",
              "      <td>-10.160000</td>\n",
              "      <td>-8.900000</td>\n",
              "      <td>0.000000</td>\n",
              "      <td>0.800000</td>\n",
              "      <td>0.000000</td>\n",
              "    </tr>\n",
              "    <tr>\n",
              "      <th>25%</th>\n",
              "      <td>26.000000</td>\n",
              "      <td>4.100000</td>\n",
              "      <td>1.540000</td>\n",
              "      <td>-0.200000</td>\n",
              "      <td>2.500000</td>\n",
              "      <td>2.800000</td>\n",
              "      <td>3.000000</td>\n",
              "    </tr>\n",
              "    <tr>\n",
              "      <th>50%</th>\n",
              "      <td>36.000000</td>\n",
              "      <td>6.800000</td>\n",
              "      <td>5.030000</td>\n",
              "      <td>3.400000</td>\n",
              "      <td>3.500000</td>\n",
              "      <td>4.000000</td>\n",
              "      <td>5.000000</td>\n",
              "    </tr>\n",
              "    <tr>\n",
              "      <th>75%</th>\n",
              "      <td>51.000000</td>\n",
              "      <td>10.000000</td>\n",
              "      <td>9.870000</td>\n",
              "      <td>7.600000</td>\n",
              "      <td>5.500000</td>\n",
              "      <td>8.510000</td>\n",
              "      <td>9.000000</td>\n",
              "    </tr>\n",
              "    <tr>\n",
              "      <th>max</th>\n",
              "      <td>180.000000</td>\n",
              "      <td>35.500000</td>\n",
              "      <td>23.200000</td>\n",
              "      <td>21.400000</td>\n",
              "      <td>24.500000</td>\n",
              "      <td>27.870000</td>\n",
              "      <td>36.000000</td>\n",
              "    </tr>\n",
              "  </tbody>\n",
              "</table>\n",
              "</div>"
            ],
            "text/plain": [
              "       No of characters  Flesch_Kincaid_Grade  ...  Gunning_Fog   Aggr_score\n",
              "count       2575.000000           2575.000000  ...  2575.000000  2575.000000\n",
              "mean          43.782913              7.608272  ...     6.268466     6.093592\n",
              "std           26.592669              5.146197  ...     4.525878     4.434205\n",
              "min            9.000000             -1.900000  ...     0.800000     0.000000\n",
              "25%           26.000000              4.100000  ...     2.800000     3.000000\n",
              "50%           36.000000              6.800000  ...     4.000000     5.000000\n",
              "75%           51.000000             10.000000  ...     8.510000     9.000000\n",
              "max          180.000000             35.500000  ...    27.870000    36.000000\n",
              "\n",
              "[8 rows x 7 columns]"
            ]
          },
          "metadata": {
            "tags": []
          },
          "execution_count": 67
        }
      ]
    },
    {
      "cell_type": "code",
      "metadata": {
        "id": "MdeUYHz-P8JF",
        "colab": {
          "base_uri": "https://localhost:8080/",
          "height": 284
        },
        "outputId": "789a4d08-61d3-43ca-af0f-03a72d7ace8b"
      },
      "source": [
        "metrics_sts_sample1.describe()"
      ],
      "execution_count": null,
      "outputs": [
        {
          "output_type": "execute_result",
          "data": {
            "text/html": [
              "<div>\n",
              "<style scoped>\n",
              "    .dataframe tbody tr th:only-of-type {\n",
              "        vertical-align: middle;\n",
              "    }\n",
              "\n",
              "    .dataframe tbody tr th {\n",
              "        vertical-align: top;\n",
              "    }\n",
              "\n",
              "    .dataframe thead th {\n",
              "        text-align: right;\n",
              "    }\n",
              "</style>\n",
              "<table border=\"1\" class=\"dataframe\">\n",
              "  <thead>\n",
              "    <tr style=\"text-align: right;\">\n",
              "      <th></th>\n",
              "      <th>No of characters</th>\n",
              "      <th>Flesch_Kincaid_Grade</th>\n",
              "      <th>Coleman_Liau_Index</th>\n",
              "      <th>Automated_readability_index</th>\n",
              "      <th>Linsear_Write</th>\n",
              "      <th>Gunning_Fog</th>\n",
              "      <th>Aggr_score</th>\n",
              "    </tr>\n",
              "  </thead>\n",
              "  <tbody>\n",
              "    <tr>\n",
              "      <th>count</th>\n",
              "      <td>52.000000</td>\n",
              "      <td>52.000000</td>\n",
              "      <td>52.000000</td>\n",
              "      <td>52.000000</td>\n",
              "      <td>52.000000</td>\n",
              "      <td>52.000000</td>\n",
              "      <td>52.000000</td>\n",
              "    </tr>\n",
              "    <tr>\n",
              "      <th>mean</th>\n",
              "      <td>45.576923</td>\n",
              "      <td>7.296154</td>\n",
              "      <td>5.782500</td>\n",
              "      <td>4.157692</td>\n",
              "      <td>5.019231</td>\n",
              "      <td>6.712500</td>\n",
              "      <td>6.076923</td>\n",
              "    </tr>\n",
              "    <tr>\n",
              "      <th>std</th>\n",
              "      <td>26.579770</td>\n",
              "      <td>5.275543</td>\n",
              "      <td>6.026079</td>\n",
              "      <td>5.629103</td>\n",
              "      <td>3.405534</td>\n",
              "      <td>4.286737</td>\n",
              "      <td>3.808382</td>\n",
              "    </tr>\n",
              "    <tr>\n",
              "      <th>min</th>\n",
              "      <td>13.000000</td>\n",
              "      <td>0.500000</td>\n",
              "      <td>-4.400000</td>\n",
              "      <td>-5.100000</td>\n",
              "      <td>1.000000</td>\n",
              "      <td>1.600000</td>\n",
              "      <td>0.000000</td>\n",
              "    </tr>\n",
              "    <tr>\n",
              "      <th>25%</th>\n",
              "      <td>21.750000</td>\n",
              "      <td>3.700000</td>\n",
              "      <td>1.380000</td>\n",
              "      <td>-0.500000</td>\n",
              "      <td>2.375000</td>\n",
              "      <td>2.700000</td>\n",
              "      <td>3.000000</td>\n",
              "    </tr>\n",
              "    <tr>\n",
              "      <th>50%</th>\n",
              "      <td>39.000000</td>\n",
              "      <td>6.600000</td>\n",
              "      <td>5.185000</td>\n",
              "      <td>3.600000</td>\n",
              "      <td>4.000000</td>\n",
              "      <td>5.400000</td>\n",
              "      <td>6.000000</td>\n",
              "    </tr>\n",
              "    <tr>\n",
              "      <th>75%</th>\n",
              "      <td>61.250000</td>\n",
              "      <td>9.025000</td>\n",
              "      <td>10.620000</td>\n",
              "      <td>9.075000</td>\n",
              "      <td>7.000000</td>\n",
              "      <td>10.000000</td>\n",
              "      <td>9.000000</td>\n",
              "    </tr>\n",
              "    <tr>\n",
              "      <th>max</th>\n",
              "      <td>117.000000</td>\n",
              "      <td>28.800000</td>\n",
              "      <td>16.870000</td>\n",
              "      <td>14.600000</td>\n",
              "      <td>13.000000</td>\n",
              "      <td>18.200000</td>\n",
              "      <td>14.000000</td>\n",
              "    </tr>\n",
              "  </tbody>\n",
              "</table>\n",
              "</div>"
            ],
            "text/plain": [
              "       No of characters  Flesch_Kincaid_Grade  ...  Gunning_Fog  Aggr_score\n",
              "count         52.000000             52.000000  ...    52.000000   52.000000\n",
              "mean          45.576923              7.296154  ...     6.712500    6.076923\n",
              "std           26.579770              5.275543  ...     4.286737    3.808382\n",
              "min           13.000000              0.500000  ...     1.600000    0.000000\n",
              "25%           21.750000              3.700000  ...     2.700000    3.000000\n",
              "50%           39.000000              6.600000  ...     5.400000    6.000000\n",
              "75%           61.250000              9.025000  ...    10.000000    9.000000\n",
              "max          117.000000             28.800000  ...    18.200000   14.000000\n",
              "\n",
              "[8 rows x 7 columns]"
            ]
          },
          "metadata": {
            "tags": []
          },
          "execution_count": 68
        }
      ]
    },
    {
      "cell_type": "code",
      "metadata": {
        "id": "EPUW3THLH0DI"
      },
      "source": [
        "sts_sample_describe1 = metrics_sts_sample1.describe()\n",
        "dscs_describe = metrics_df.describe()"
      ],
      "execution_count": null,
      "outputs": []
    },
    {
      "cell_type": "code",
      "metadata": {
        "id": "08LMLDK_RV_v"
      },
      "source": [
        "dscs_des_list = dscs_describe.values.tolist()\n",
        "sts_des_list1 = sts_sample_describe1.values.tolist()"
      ],
      "execution_count": null,
      "outputs": []
    },
    {
      "cell_type": "code",
      "metadata": {
        "id": "Yg0gAU3-SPDo",
        "colab": {
          "base_uri": "https://localhost:8080/",
          "height": 353
        },
        "outputId": "7d70c34e-bb57-46db-9cf1-d08cb312ea62"
      },
      "source": [
        "dscs_des_list"
      ],
      "execution_count": null,
      "outputs": [
        {
          "output_type": "execute_result",
          "data": {
            "text/plain": [
              "[[52.0, 52.0, 52.0, 52.0, 52.0, 52.0, 52.0],\n",
              " [78.75,\n",
              "  12.765384615384617,\n",
              "  13.054615384615387,\n",
              "  11.2,\n",
              "  10.317307692307692,\n",
              "  14.83480769230769,\n",
              "  12.423076923076923],\n",
              " [25.40640262055309,\n",
              "  4.392591115949164,\n",
              "  4.906456515189444,\n",
              "  4.374614828983323,\n",
              "  3.7911517807966626,\n",
              "  4.4791799364916205,\n",
              "  4.281039610985815],\n",
              " [23.0, 0.1, -0.87, -2.5, 2.5, 2.8, 0.0],\n",
              " [62.5, 9.8, 9.955000000000002, 8.1, 7.875, 11.4525, 9.75],\n",
              " [75.5, 12.9, 13.695, 11.45, 10.5, 14.8, 12.0],\n",
              " [95.5, 15.8, 16.505, 14.425, 13.0, 18.05, 15.0],\n",
              " [152.0, 21.0, 22.18, 18.1, 19.5, 25.82, 22.0]]"
            ]
          },
          "metadata": {
            "tags": []
          },
          "execution_count": 71
        }
      ]
    },
    {
      "cell_type": "code",
      "metadata": {
        "id": "J8v8W6BATVjS"
      },
      "source": [
        "dscs_mean_list = dscs_des_list[1][1:7]\n",
        "sts_mean_list1 = sts_des_list1[1][1:7]\n",
        "dscs_std_list = dscs_des_list[2][1:7]\n",
        "sts_std_list = sts_des_list[2][1:7]"
      ],
      "execution_count": null,
      "outputs": []
    },
    {
      "cell_type": "code",
      "metadata": {
        "id": "b-aCEzGNOMSa"
      },
      "source": [
        "import matplotlib\n",
        "import matplotlib.pyplot as plt\n",
        "\n",
        "labels = ['Flesch_Kincaid_Grade','Coleman_Liau_Index','Automated_readability_index','Linsear_Write','Gunning_Fog','Aggr_score']\n"
      ],
      "execution_count": null,
      "outputs": []
    },
    {
      "cell_type": "code",
      "metadata": {
        "id": "FcTjo9FTQkdi",
        "colab": {
          "base_uri": "https://localhost:8080/",
          "height": 354
        },
        "outputId": "c655bcf2-f846-48ac-9773-922ddf050d63"
      },
      "source": [
        "x = np.arange(len(labels))  # the label locations\n",
        "width = 0.35  # the width of the bars\n",
        "\n",
        "fig, ax = plt.subplots(figsize=(15,5))\n",
        "rects1 = ax.bar(x - width/2, dscs_mean_list, width, label='DSCS')\n",
        "rects2 = ax.bar(x + width/2, sts_mean_list, width, label='STS')\n",
        "\n",
        "\n",
        "# Add some text for labels, title and custom x-axis tick labels, etc.\n",
        "ax.set_ylabel('Grades')\n",
        "ax.set_title('Mean value comparison of Reability Indices')\n",
        "ax.set_xticks(x)\n",
        "ax.set_xticklabels(labels)\n",
        "ax.legend()"
      ],
      "execution_count": null,
      "outputs": [
        {
          "output_type": "execute_result",
          "data": {
            "text/plain": [
              "<matplotlib.legend.Legend at 0x7f6a7d018780>"
            ]
          },
          "metadata": {
            "tags": []
          },
          "execution_count": 74
        },
        {
          "output_type": "display_data",
          "data": {
            "image/png": "[encoded data removed]",
            "text/plain": [
              "<Figure size 1080x360 with 1 Axes>"
            ]
          },
          "metadata": {
            "tags": [],
            "needs_background": "light"
          }
        }
      ]
    },
    {
      "cell_type": "code",
      "metadata": {
        "id": "buqhWq3zTQn2"
      },
      "source": [
        "# x = np.arange(len(labels))  # the label locations\n",
        "# width = 0.35  # the width of the bars\n",
        "\n",
        "# fig, ax = plt.subplots(figsize=(15,5))\n",
        "# rects1 = ax.bar(x - width/2, dscs_std_list, width, label='DSCS')\n",
        "# rects2 = ax.bar(x + width/2, sts_std_list, width, label='STS')\n",
        "\n",
        "\n",
        "# # Add some text for labels, title and custom x-axis tick labels, etc.\n",
        "# ax.set_ylabel('Grades')\n",
        "# ax.set_title('Standard deviation comparison of Reability Indices')\n",
        "# ax.set_xticks(x)\n",
        "# ax.set_xticklabels(labels)\n",
        "# ax.legend()"
      ],
      "execution_count": null,
      "outputs": []
    },
    {
      "cell_type": "code",
      "metadata": {
        "id": "pWQELirPXlgv"
      },
      "source": [
        "sick_dataset = pd.read_csv('/content/drive/My Drive/SICK.csv')\n",
        "sick_data_df = sick_dataset[['sentence_A','sentence_B']]"
      ],
      "execution_count": null,
      "outputs": []
    },
    {
      "cell_type": "code",
      "metadata": {
        "id": "93X2zjqKjRLV",
        "colab": {
          "base_uri": "https://localhost:8080/",
          "height": 195
        },
        "outputId": "8ac54f1b-0105-4fa0-952e-cf85d7692d16"
      },
      "source": [
        "sick_data_df.head()"
      ],
      "execution_count": null,
      "outputs": [
        {
          "output_type": "execute_result",
          "data": {
            "text/html": [
              "<div>\n",
              "<style scoped>\n",
              "    .dataframe tbody tr th:only-of-type {\n",
              "        vertical-align: middle;\n",
              "    }\n",
              "\n",
              "    .dataframe tbody tr th {\n",
              "        vertical-align: top;\n",
              "    }\n",
              "\n",
              "    .dataframe thead th {\n",
              "        text-align: right;\n",
              "    }\n",
              "</style>\n",
              "<table border=\"1\" class=\"dataframe\">\n",
              "  <thead>\n",
              "    <tr style=\"text-align: right;\">\n",
              "      <th></th>\n",
              "      <th>sentence_A</th>\n",
              "      <th>sentence_B</th>\n",
              "    </tr>\n",
              "  </thead>\n",
              "  <tbody>\n",
              "    <tr>\n",
              "      <th>0</th>\n",
              "      <td>A group of kids is playing in a yard and an ol...</td>\n",
              "      <td>A group of boys in a yard is playing and a man...</td>\n",
              "    </tr>\n",
              "    <tr>\n",
              "      <th>1</th>\n",
              "      <td>A group of children is playing in the house an...</td>\n",
              "      <td>A group of kids is playing in a yard and an ol...</td>\n",
              "    </tr>\n",
              "    <tr>\n",
              "      <th>2</th>\n",
              "      <td>The young boys are playing outdoors and the ma...</td>\n",
              "      <td>The kids are playing outdoors near a man with ...</td>\n",
              "    </tr>\n",
              "    <tr>\n",
              "      <th>3</th>\n",
              "      <td>The young boys are playing outdoors and the ma...</td>\n",
              "      <td>There is no boy playing outdoors and there is ...</td>\n",
              "    </tr>\n",
              "    <tr>\n",
              "      <th>4</th>\n",
              "      <td>The kids are playing outdoors near a man with ...</td>\n",
              "      <td>A group of kids is playing in a yard and an ol...</td>\n",
              "    </tr>\n",
              "  </tbody>\n",
              "</table>\n",
              "</div>"
            ],
            "text/plain": [
              "                                          sentence_A                                         sentence_B\n",
              "0  A group of kids is playing in a yard and an ol...  A group of boys in a yard is playing and a man...\n",
              "1  A group of children is playing in the house an...  A group of kids is playing in a yard and an ol...\n",
              "2  The young boys are playing outdoors and the ma...  The kids are playing outdoors near a man with ...\n",
              "3  The young boys are playing outdoors and the ma...  There is no boy playing outdoors and there is ...\n",
              "4  The kids are playing outdoors near a man with ...  A group of kids is playing in a yard and an ol..."
            ]
          },
          "metadata": {
            "tags": []
          },
          "execution_count": 77
        }
      ]
    },
    {
      "cell_type": "code",
      "metadata": {
        "id": "0hhmr662jVz2"
      },
      "source": [
        "sick_sentence_a = sick_dataset['sentence_A'].tolist()\n",
        "sick_sentence_b = sick_dataset['sentence_B'].tolist()\n",
        "sick_total_sentences = sick_sentence_a + sick_sentence_b"
      ],
      "execution_count": null,
      "outputs": []
    },
    {
      "cell_type": "code",
      "metadata": {
        "id": "qpy1WpbRjp-_",
        "colab": {
          "base_uri": "https://localhost:8080/",
          "height": 34
        },
        "outputId": "3610a401-d86c-4c45-8c10-69e1caa3d2f3"
      },
      "source": [
        "len(sick_total_sentences)"
      ],
      "execution_count": null,
      "outputs": [
        {
          "output_type": "execute_result",
          "data": {
            "text/plain": [
              "19680"
            ]
          },
          "metadata": {
            "tags": []
          },
          "execution_count": 79
        }
      ]
    },
    {
      "cell_type": "code",
      "metadata": {
        "id": "lqVD6h1RjtXR",
        "colab": {
          "base_uri": "https://localhost:8080/",
          "height": 35
        },
        "outputId": "4e23941b-22a2-4a8a-a06b-1ddf332510f8"
      },
      "source": [
        "for i in range(len(sick_total_sentences)):\n",
        "  sick_total_sentences[i] = re.sub('[^a-zA-Z]', ' ', sick_total_sentences[i])\n",
        "sick_total_sentences[0]"
      ],
      "execution_count": null,
      "outputs": [
        {
          "output_type": "execute_result",
          "data": {
            "application/vnd.google.colaboratory.intrinsic+json": {
              "type": "string"
            },
            "text/plain": [
              "'A group of kids is playing in a yard and an old man is standing in the background'"
            ]
          },
          "metadata": {
            "tags": []
          },
          "execution_count": 80
        }
      ]
    },
    {
      "cell_type": "code",
      "metadata": {
        "id": "7zOU40hCj2E0"
      },
      "source": [
        "unique_sick_sentences = list(set(sick_total_sentences))"
      ],
      "execution_count": null,
      "outputs": []
    },
    {
      "cell_type": "code",
      "metadata": {
        "id": "Uh7byLaej9SC",
        "colab": {
          "base_uri": "https://localhost:8080/",
          "height": 34
        },
        "outputId": "561cf8a7-9657-4095-8329-be4ca2663f12"
      },
      "source": [
        "len(unique_sick_sentences)"
      ],
      "execution_count": null,
      "outputs": [
        {
          "output_type": "execute_result",
          "data": {
            "text/plain": [
              "6076"
            ]
          },
          "metadata": {
            "tags": []
          },
          "execution_count": 82
        }
      ]
    },
    {
      "cell_type": "code",
      "metadata": {
        "id": "k8WYWJydj-0o"
      },
      "source": [
        "value_list_sick = []\n",
        "for s in unique_sick_sentences:\n",
        "    tempList =[]\n",
        "    tempList.append(s)\n",
        "    tempList.append(ts.char_count(s))\n",
        "    tempList.append(ts.flesch_kincaid_grade(s))\n",
        "    tempList.append(ts.coleman_liau_index(s))\n",
        "    tempList.append(ts.automated_readability_index(s))\n",
        "    tempList.append(ts.linsear_write_formula(s))\n",
        "    tempList.append(ts.gunning_fog(s))\n",
        "    tempList.append(ts.text_standard(s,float_output=True))\n",
        "    value_list_sick.append(tempList)"
      ],
      "execution_count": null,
      "outputs": []
    },
    {
      "cell_type": "code",
      "metadata": {
        "id": "LewMWyM7kInT",
        "colab": {
          "base_uri": "https://localhost:8080/",
          "height": 195
        },
        "outputId": "03341e04-30e5-4731-c59e-e750da61a205"
      },
      "source": [
        "metrics_df_sick = pd.DataFrame(value_list_sick,columns=column_headers)\n",
        "metrics_df_sick.head()"
      ],
      "execution_count": null,
      "outputs": [
        {
          "output_type": "execute_result",
          "data": {
            "text/html": [
              "<div>\n",
              "<style scoped>\n",
              "    .dataframe tbody tr th:only-of-type {\n",
              "        vertical-align: middle;\n",
              "    }\n",
              "\n",
              "    .dataframe tbody tr th {\n",
              "        vertical-align: top;\n",
              "    }\n",
              "\n",
              "    .dataframe thead th {\n",
              "        text-align: right;\n",
              "    }\n",
              "</style>\n",
              "<table border=\"1\" class=\"dataframe\">\n",
              "  <thead>\n",
              "    <tr style=\"text-align: right;\">\n",
              "      <th></th>\n",
              "      <th>Sentence</th>\n",
              "      <th>No of characters</th>\n",
              "      <th>Flesch_Kincaid_Grade</th>\n",
              "      <th>Coleman_Liau_Index</th>\n",
              "      <th>Automated_readability_index</th>\n",
              "      <th>Linsear_Write</th>\n",
              "      <th>Gunning_Fog</th>\n",
              "      <th>Aggr_score</th>\n",
              "    </tr>\n",
              "  </thead>\n",
              "  <tbody>\n",
              "    <tr>\n",
              "      <th>0</th>\n",
              "      <td>The goal is being guarded by a hockey player i...</td>\n",
              "      <td>51</td>\n",
              "      <td>7.2</td>\n",
              "      <td>4.57</td>\n",
              "      <td>3.5</td>\n",
              "      <td>5.5</td>\n",
              "      <td>5.2</td>\n",
              "      <td>8.0</td>\n",
              "    </tr>\n",
              "    <tr>\n",
              "      <th>1</th>\n",
              "      <td>A person on a bike is not in the air near a bo...</td>\n",
              "      <td>43</td>\n",
              "      <td>3.2</td>\n",
              "      <td>-1.24</td>\n",
              "      <td>-0.5</td>\n",
              "      <td>6.5</td>\n",
              "      <td>6.0</td>\n",
              "      <td>0.0</td>\n",
              "    </tr>\n",
              "    <tr>\n",
              "      <th>2</th>\n",
              "      <td>A dark black dog and a light brown dog are pla...</td>\n",
              "      <td>53</td>\n",
              "      <td>2.9</td>\n",
              "      <td>4.11</td>\n",
              "      <td>3.4</td>\n",
              "      <td>6.0</td>\n",
              "      <td>5.6</td>\n",
              "      <td>6.0</td>\n",
              "    </tr>\n",
              "    <tr>\n",
              "      <th>3</th>\n",
              "      <td>Two people are looking at a statue made of gold</td>\n",
              "      <td>38</td>\n",
              "      <td>3.7</td>\n",
              "      <td>3.28</td>\n",
              "      <td>1.5</td>\n",
              "      <td>4.0</td>\n",
              "      <td>4.0</td>\n",
              "      <td>4.0</td>\n",
              "    </tr>\n",
              "    <tr>\n",
              "      <th>4</th>\n",
              "      <td>The woman is not handling a frog</td>\n",
              "      <td>26</td>\n",
              "      <td>2.5</td>\n",
              "      <td>1.57</td>\n",
              "      <td>-0.6</td>\n",
              "      <td>2.5</td>\n",
              "      <td>2.8</td>\n",
              "      <td>3.0</td>\n",
              "    </tr>\n",
              "  </tbody>\n",
              "</table>\n",
              "</div>"
            ],
            "text/plain": [
              "                                            Sentence  ...  Aggr_score\n",
              "0  The goal is being guarded by a hockey player i...  ...         8.0\n",
              "1  A person on a bike is not in the air near a bo...  ...         0.0\n",
              "2  A dark black dog and a light brown dog are pla...  ...         6.0\n",
              "3    Two people are looking at a statue made of gold  ...         4.0\n",
              "4                   The woman is not handling a frog  ...         3.0\n",
              "\n",
              "[5 rows x 8 columns]"
            ]
          },
          "metadata": {
            "tags": []
          },
          "execution_count": 84
        }
      ]
    },
    {
      "cell_type": "code",
      "metadata": {
        "id": "jbYxKN4WkQZl"
      },
      "source": [
        "metrics_sick_sample1 = metrics_df_sick.sample(n=52,random_state=5)"
      ],
      "execution_count": null,
      "outputs": []
    },
    {
      "cell_type": "code",
      "metadata": {
        "id": "7xZGp9Kckkeg",
        "colab": {
          "base_uri": "https://localhost:8080/",
          "height": 284
        },
        "outputId": "a7535f81-a16e-426f-a304-0c049fd015d6"
      },
      "source": [
        "metrics_sick_sample1.describe()"
      ],
      "execution_count": null,
      "outputs": [
        {
          "output_type": "execute_result",
          "data": {
            "text/html": [
              "<div>\n",
              "<style scoped>\n",
              "    .dataframe tbody tr th:only-of-type {\n",
              "        vertical-align: middle;\n",
              "    }\n",
              "\n",
              "    .dataframe tbody tr th {\n",
              "        vertical-align: top;\n",
              "    }\n",
              "\n",
              "    .dataframe thead th {\n",
              "        text-align: right;\n",
              "    }\n",
              "</style>\n",
              "<table border=\"1\" class=\"dataframe\">\n",
              "  <thead>\n",
              "    <tr style=\"text-align: right;\">\n",
              "      <th></th>\n",
              "      <th>No of characters</th>\n",
              "      <th>Flesch_Kincaid_Grade</th>\n",
              "      <th>Coleman_Liau_Index</th>\n",
              "      <th>Automated_readability_index</th>\n",
              "      <th>Linsear_Write</th>\n",
              "      <th>Gunning_Fog</th>\n",
              "      <th>Aggr_score</th>\n",
              "    </tr>\n",
              "  </thead>\n",
              "  <tbody>\n",
              "    <tr>\n",
              "      <th>count</th>\n",
              "      <td>52.000000</td>\n",
              "      <td>52.000000</td>\n",
              "      <td>52.000000</td>\n",
              "      <td>52.000000</td>\n",
              "      <td>52.000000</td>\n",
              "      <td>52.000000</td>\n",
              "      <td>52.000000</td>\n",
              "    </tr>\n",
              "    <tr>\n",
              "      <th>mean</th>\n",
              "      <td>39.000000</td>\n",
              "      <td>4.230769</td>\n",
              "      <td>3.947885</td>\n",
              "      <td>2.269231</td>\n",
              "      <td>4.403846</td>\n",
              "      <td>5.509038</td>\n",
              "      <td>4.384615</td>\n",
              "    </tr>\n",
              "    <tr>\n",
              "      <th>std</th>\n",
              "      <td>14.918077</td>\n",
              "      <td>2.453132</td>\n",
              "      <td>3.137410</td>\n",
              "      <td>2.951207</td>\n",
              "      <td>2.126026</td>\n",
              "      <td>2.546931</td>\n",
              "      <td>2.352753</td>\n",
              "    </tr>\n",
              "    <tr>\n",
              "      <th>min</th>\n",
              "      <td>19.000000</td>\n",
              "      <td>-1.500000</td>\n",
              "      <td>-2.460000</td>\n",
              "      <td>-3.600000</td>\n",
              "      <td>2.000000</td>\n",
              "      <td>2.400000</td>\n",
              "      <td>0.000000</td>\n",
              "    </tr>\n",
              "    <tr>\n",
              "      <th>25%</th>\n",
              "      <td>29.750000</td>\n",
              "      <td>2.500000</td>\n",
              "      <td>1.547500</td>\n",
              "      <td>0.300000</td>\n",
              "      <td>3.000000</td>\n",
              "      <td>3.200000</td>\n",
              "      <td>3.000000</td>\n",
              "    </tr>\n",
              "    <tr>\n",
              "      <th>50%</th>\n",
              "      <td>35.000000</td>\n",
              "      <td>3.850000</td>\n",
              "      <td>4.210000</td>\n",
              "      <td>2.300000</td>\n",
              "      <td>4.000000</td>\n",
              "      <td>4.800000</td>\n",
              "      <td>4.000000</td>\n",
              "    </tr>\n",
              "    <tr>\n",
              "      <th>75%</th>\n",
              "      <td>43.000000</td>\n",
              "      <td>6.000000</td>\n",
              "      <td>5.737500</td>\n",
              "      <td>3.600000</td>\n",
              "      <td>5.000000</td>\n",
              "      <td>8.040000</td>\n",
              "      <td>6.000000</td>\n",
              "    </tr>\n",
              "    <tr>\n",
              "      <th>max</th>\n",
              "      <td>87.000000</td>\n",
              "      <td>10.400000</td>\n",
              "      <td>15.910000</td>\n",
              "      <td>11.400000</td>\n",
              "      <td>12.000000</td>\n",
              "      <td>10.620000</td>\n",
              "      <td>10.000000</td>\n",
              "    </tr>\n",
              "  </tbody>\n",
              "</table>\n",
              "</div>"
            ],
            "text/plain": [
              "       No of characters  Flesch_Kincaid_Grade  ...  Gunning_Fog  Aggr_score\n",
              "count         52.000000             52.000000  ...    52.000000   52.000000\n",
              "mean          39.000000              4.230769  ...     5.509038    4.384615\n",
              "std           14.918077              2.453132  ...     2.546931    2.352753\n",
              "min           19.000000             -1.500000  ...     2.400000    0.000000\n",
              "25%           29.750000              2.500000  ...     3.200000    3.000000\n",
              "50%           35.000000              3.850000  ...     4.800000    4.000000\n",
              "75%           43.000000              6.000000  ...     8.040000    6.000000\n",
              "max           87.000000             10.400000  ...    10.620000   10.000000\n",
              "\n",
              "[8 rows x 7 columns]"
            ]
          },
          "metadata": {
            "tags": []
          },
          "execution_count": 86
        }
      ]
    },
    {
      "cell_type": "code",
      "metadata": {
        "id": "wTI1fWSrknsd"
      },
      "source": [
        "sick_sample_describe1 = metrics_sick_sample1.describe()\n",
        "sick_des_list1 = sick_sample_describe1.values.tolist()"
      ],
      "execution_count": null,
      "outputs": []
    },
    {
      "cell_type": "code",
      "metadata": {
        "id": "7jZnyY3-VASp"
      },
      "source": [
        "metrics_sick_sample1 = metrics_df_sick.sample(n=52,random_state=5)"
      ],
      "execution_count": null,
      "outputs": []
    },
    {
      "cell_type": "code",
      "metadata": {
        "id": "-_bnU5kflQSh"
      },
      "source": [
        "sick_mean_list1 = sick_des_list1[1][1:7]"
      ],
      "execution_count": null,
      "outputs": []
    },
    {
      "cell_type": "code",
      "metadata": {
        "id": "iT3DFXmYlX8g",
        "colab": {
          "base_uri": "https://localhost:8080/",
          "height": 337
        },
        "outputId": "1af6544d-25af-46b4-e4bd-6bbd62f06853"
      },
      "source": [
        "x = np.arange(len(labels))  # the label locations\n",
        "width = 0.35  # the width of the bars\n",
        "fig.dpi = 400\n",
        "fig, ax = plt.subplots(figsize=(15,5))\n",
        "rects1 = ax.bar(x - 0.2, dscs_mean_list, width=0.2, label='DSCS')\n",
        "rects2 = ax.bar(x , sts_mean_list1, width=0.2, label='STS')\n",
        "rects3 = ax.bar(x + 0.2, sick_mean_list1, width=0.2, label='SICK' )\n",
        "\n",
        "# Add some text for labels, title and custom x-axis tick labels, etc.\n",
        "ax.set_ylabel('Grades')\n",
        "ax.set_title('Mean value comparison of Reability Indices')\n",
        "ax.set_xticks(x)\n",
        "ax.set_xticklabels(labels)\n",
        "ax.legend()\n",
        "def autolabel(rects):\n",
        "    \"\"\"Attach a text label above each bar in *rects*, displaying its height.\"\"\"\n",
        "    for rect in rects:\n",
        "        height = rect.get_height()\n",
        "        ax.annotate('{}'.format(height),\n",
        "                    xy=(rect.get_x() + rect.get_width() / 2, height),\n",
        "                    xytext=(0, 3),  # 3 points vertical offset\n",
        "                    textcoords=\"offset points\",\n",
        "                    ha='center', va='bottom')\n",
        "\n",
        "\n",
        "autolabel(rects1)\n",
        "autolabel(rects2)\n",
        "autolabel(rects3)"
      ],
      "execution_count": null,
      "outputs": [
        {
          "output_type": "display_data",
          "data": {
            "image/png": "[encoded data removed]",
            "text/plain": [
              "<Figure size 1080x360 with 1 Axes>"
            ]
          },
          "metadata": {
            "tags": [],
            "needs_background": "light"
          }
        }
      ]
    },
    {
      "cell_type": "code",
      "metadata": {
        "id": "kRrc20QtnrMM"
      },
      "source": [
        "metrics_sts_sample2 = metrics_df_sts.sample(n=52,random_state=8)\n",
        "sts_sample_describe2 = metrics_sts_sample2.describe()\n",
        "sts_des_list2 = sts_sample_describe2.values.tolist()\n",
        "sts_mean_list2 = sts_des_list2[1][1:7]"
      ],
      "execution_count": null,
      "outputs": []
    },
    {
      "cell_type": "code",
      "metadata": {
        "id": "P5Y2fN_XWwjn"
      },
      "source": [
        "metrics_sick_sample2 = metrics_df_sick.sample(n=52,random_state=8)\n",
        "sick_sample_describe2 = metrics_sick_sample2.describe()\n",
        "sick_des_list2 = sick_sample_describe2.values.tolist()\n",
        "sick_mean_list2 = sick_des_list2[1][1:7]"
      ],
      "execution_count": null,
      "outputs": []
    },
    {
      "cell_type": "code",
      "metadata": {
        "id": "kZ0XAfkLk93d"
      },
      "source": [
        "metrics_sts_sample3 = metrics_df_sts.sample(n=52,random_state=48)\n",
        "sts_sample_describe3 = metrics_sts_sample3.describe()\n",
        "sts_des_list3 = sts_sample_describe3.values.tolist()\n",
        "sts_mean_list3 = sts_des_list3[1][1:7]\n",
        "metrics_sick_sample3 = metrics_df_sick.sample(n=52,random_state=48)\n",
        "sick_sample_describe3 = metrics_sick_sample3.describe()\n",
        "sick_des_list3 = sick_sample_describe3.values.tolist()\n",
        "sick_mean_list3 = sick_des_list3[1][1:7]"
      ],
      "execution_count": null,
      "outputs": []
    },
    {
      "cell_type": "code",
      "metadata": {
        "id": "KnPtEfWJeO5I",
        "colab": {
          "base_uri": "https://localhost:8080/",
          "height": 118
        },
        "outputId": "bec38481-651d-4569-bbc1-153a9546a0a2"
      },
      "source": [
        "dscs_mean_list"
      ],
      "execution_count": null,
      "outputs": [
        {
          "output_type": "execute_result",
          "data": {
            "text/plain": [
              "[12.765384615384617,\n",
              " 13.054615384615387,\n",
              " 11.2,\n",
              " 10.317307692307692,\n",
              " 14.83480769230769,\n",
              " 12.423076923076923]"
            ]
          },
          "metadata": {
            "tags": []
          },
          "execution_count": 108
        }
      ]
    },
    {
      "cell_type": "code",
      "metadata": {
        "id": "ps_X61n1eP4W",
        "colab": {
          "base_uri": "https://localhost:8080/",
          "height": 118
        },
        "outputId": "b13f99ee-fc57-4dce-cbe1-da2f517a6120"
      },
      "source": [
        "sts_mean_list3"
      ],
      "execution_count": null,
      "outputs": [
        {
          "output_type": "execute_result",
          "data": {
            "text/plain": [
              "[6.853846153846153,\n",
              " 5.455769230769229,\n",
              " 4.013461538461539,\n",
              " 5.115384615384615,\n",
              " 7.193269230769231,\n",
              " 6.0]"
            ]
          },
          "metadata": {
            "tags": []
          },
          "execution_count": 116
        }
      ]
    },
    {
      "cell_type": "code",
      "metadata": {
        "id": "8cL0443LeiCv",
        "colab": {
          "base_uri": "https://localhost:8080/",
          "height": 118
        },
        "outputId": "4415ec25-1d20-4e56-8a7c-2801524df8b2"
      },
      "source": [
        "sick_mean_list3"
      ],
      "execution_count": null,
      "outputs": [
        {
          "output_type": "execute_result",
          "data": {
            "text/plain": [
              "[3.9673076923076924,\n",
              " 3.8444230769230763,\n",
              " 2.2538461538461534,\n",
              " 4.423076923076923,\n",
              " 5.298653846153846,\n",
              " 4.1923076923076925]"
            ]
          },
          "metadata": {
            "tags": []
          },
          "execution_count": 115
        }
      ]
    },
    {
      "cell_type": "code",
      "metadata": {
        "id": "y7TvqTpZfDOi",
        "colab": {
          "base_uri": "https://localhost:8080/",
          "height": 151
        },
        "outputId": "29158779-eda0-45be-df51-f221f7f28609"
      },
      "source": [
        "column_headers"
      ],
      "execution_count": null,
      "outputs": [
        {
          "output_type": "execute_result",
          "data": {
            "text/plain": [
              "['Sentence',\n",
              " 'No of characters',\n",
              " 'Flesch_Kincaid_Grade',\n",
              " 'Coleman_Liau_Index',\n",
              " 'Automated_readability_index',\n",
              " 'Linsear_Write',\n",
              " 'Gunning_Fog',\n",
              " 'Aggr_score']"
            ]
          },
          "metadata": {
            "tags": []
          },
          "execution_count": 110
        }
      ]
    },
    {
      "cell_type": "code",
      "metadata": {
        "id": "CfwQBMkaffwE"
      },
      "source": [
        ""
      ],
      "execution_count": null,
      "outputs": []
    }
  ]
}